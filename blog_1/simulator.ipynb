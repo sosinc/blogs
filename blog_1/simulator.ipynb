{
 "cells": [
  {
   "cell_type": "code",
   "execution_count": 83,
   "metadata": {},
   "outputs": [],
   "source": [
    "import numpy as np\n",
    "import matplotlib.pyplot as plt\n",
    "from random import shuffle\n",
    "from IPython import display"
   ]
  },
  {
   "cell_type": "code",
   "execution_count": 27,
   "metadata": {},
   "outputs": [],
   "source": [
    "plt.rcParams[\"figure.figsize\"] = 10,10"
   ]
  },
  {
   "cell_type": "code",
   "execution_count": 16,
   "metadata": {},
   "outputs": [],
   "source": [
    "#initial investment amount x\n",
    "# getting in a random integer from currency value 4 to 100\n",
    "def random_choice(low=4, high=100,num_vals = 1):\n",
    "    x = np.random.randint(low,high,num_vals)\n",
    "    return x\n",
    "\n"
   ]
  },
  {
   "cell_type": "code",
   "execution_count": 17,
   "metadata": {},
   "outputs": [],
   "source": [
    "#probability of success for player in each iteration is 1/3\n",
    "p_success = 1/3"
   ]
  },
  {
   "cell_type": "code",
   "execution_count": 104,
   "metadata": {},
   "outputs": [
    {
     "data": {
      "text/plain": [
       "<Figure size 720x720 with 0 Axes>"
      ]
     },
     "metadata": {},
     "output_type": "display_data"
    }
   ],
   "source": [
    "# Now lets create a simulation where we shuffle the three glasses and select a random one of them to contain the coin underneath\n",
    "\n",
    "# number of times the game is played\n",
    "\n",
    "num_simulations = 10\n",
    "\n",
    "#where 1 represents the cup with the coin underneath\n",
    "state_cups = [0,1,0]\n",
    "\n",
    "count = 0\n",
    "# display.display(plt.show(),display_id=\"1\")\n",
    "for i in range(400):\n",
    "    amount_won = 0\n",
    "    amount_lost = 0\n",
    "    for each_game in range(num_simulations):\n",
    "        #in each game the cup with ball underneath is changed therefore\n",
    "        shuffle(state_cups)\n",
    "        amount_in_game = amount_invested()[0]\n",
    "        #similating selection of cup when we are choosing at random\n",
    "        # .. We will be choosing between the index 0 - 2\n",
    "        choice = random_choice(0,2)[0]\n",
    "        if state_cups[choice] == 1:\n",
    "            amount_won += amount_in_game\n",
    "        else:\n",
    "            amount_lost-=amount_in_game\n",
    "\n",
    "    #plotting losses and wins \n",
    "\n",
    "    profit_loss = amount_won + amount_lost\n",
    "\n",
    "    barlist = plt.bar([\"amount_won\",\"amount_lost\",\"Profit/Loss\"],[amount_won,amount_lost,profit_loss],width=0.5)\n",
    "    barlist[1].set_color('r')\n",
    "    barlist[0].set_color('g')\n",
    "    \n",
    "    if profit_loss < 0:\n",
    "        barlist[2].set_color(\"r\")\n",
    "    else:\n",
    "        barlist[2].set_color(\"g\")\n",
    "#     display.update_display(plt.show(),display_id=\"1\")\n",
    "    plt.savefig(f\"all_files_img/img_{count}.png\")\n",
    "    plt.clf()\n",
    "    count+=1\n",
    "    "
   ]
  },
  {
   "cell_type": "code",
   "execution_count": null,
   "metadata": {},
   "outputs": [],
   "source": []
  }
 ],
 "metadata": {
  "kernelspec": {
   "display_name": "Python 3",
   "language": "python",
   "name": "python3"
  },
  "language_info": {
   "codemirror_mode": {
    "name": "ipython",
    "version": 3
   },
   "file_extension": ".py",
   "mimetype": "text/x-python",
   "name": "python",
   "nbconvert_exporter": "python",
   "pygments_lexer": "ipython3",
   "version": "3.7.4"
  }
 },
 "nbformat": 4,
 "nbformat_minor": 4
}
